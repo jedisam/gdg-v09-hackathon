{
  "nbformat": 4,
  "nbformat_minor": 0,
  "metadata": {
    "colab": {
      "name": "gdg1.ipynb",
      "provenance": []
    },
    "kernelspec": {
      "name": "python3",
      "display_name": "Python 3"
    },
    "accelerator": "GPU"
  },
  "cells": [
    {
      "cell_type": "code",
      "metadata": {
        "id": "TPOz93K4JYyj",
        "outputId": "29427266-3320-40ed-c81a-4abd6eecd739",
        "colab": {
          "base_uri": "https://localhost:8080/",
          "height": 53
        }
      },
      "source": [
        "# https://drive.google.com/file/d/1cOjcgQ8tZl6tOe9FQb05ZCFnUXy1MKwJ/view?usp=sharing\n",
        "\n",
        "# https://drive.google.com/file/d/1cOjcgQ8tZl6tOe9FQb05ZCFnUXy1MKwJ/view?usp=sharing\n",
        "\n",
        "from google_drive_downloader import GoogleDriveDownloader as gdd\n",
        "\n",
        "gdd.download_file_from_google_drive(file_id='1cOjcgQ8tZl6tOe9FQb05ZCFnUXy1MKwJ',\n",
        "                                    dest_path='/content/gdg.zip',\n",
        "                                    unzip=True)"
      ],
      "execution_count": 1,
      "outputs": [
        {
          "output_type": "stream",
          "text": [
            "Downloading 1cOjcgQ8tZl6tOe9FQb05ZCFnUXy1MKwJ into /content/gdg.zip... Done.\n",
            "Unzipping...Done.\n"
          ],
          "name": "stdout"
        }
      ]
    },
    {
      "cell_type": "code",
      "metadata": {
        "id": "1fUfNFZAJ1Mz"
      },
      "source": [
        "# !pip install tensorflow==1.14.0\n",
        "import tensorflow as tf\n",
        "\n",
        "from tensorflow.keras import Sequential\n",
        "from tensorflow.keras import layers"
      ],
      "execution_count": 2,
      "outputs": []
    },
    {
      "cell_type": "code",
      "metadata": {
        "id": "kOcDUGqfm1oF",
        "outputId": "074d3e22-7c88-4427-8e8e-c2ea1771c2ba",
        "colab": {
          "base_uri": "https://localhost:8080/",
          "height": 34
        }
      },
      "source": [
        "print(tf.__version__)"
      ],
      "execution_count": null,
      "outputs": [
        {
          "output_type": "stream",
          "text": [
            "1.14.0\n"
          ],
          "name": "stdout"
        }
      ]
    },
    {
      "cell_type": "code",
      "metadata": {
        "id": "6RtfwnLbJ3bV",
        "outputId": "c0748363-eaf9-4f0e-c9d5-f59b27e559f4",
        "colab": {
          "base_uri": "https://localhost:8080/",
          "height": 71
        }
      },
      "source": [
        "train_datagen = tf.keras.preprocessing.image.ImageDataGenerator(rescale = 1./255., # rescaling\n",
        "                                   rotation_range = 40,  # for augmentation\n",
        "                                   width_shift_range = 0.2,\n",
        "                                   validation_split = 0.2,\n",
        "                                   height_shift_range = 0.2,\n",
        "                                   shear_range = 0.2,\n",
        "                                   zoom_range = 0.2,\n",
        "                                   horizontal_flip = True)\n",
        "\n",
        "val_datagen = tf.keras.preprocessing.image.ImageDataGenerator(rescale = 1.0/255.,validation_split = 0.2)\n",
        "\n",
        "test_datagen = tf.keras.preprocessing.image.ImageDataGenerator(rescale = 1.0/255.)\n",
        "\n",
        "train_generator = train_datagen.flow_from_directory(\"/content/gdg/train\",\n",
        "                                                    batch_size = 8,\n",
        "                                                    subset=\"training\",\n",
        "                                                    class_mode = 'categorical', \n",
        "                                                    shuffle = True,\n",
        "                                                    target_size = (100, 100))\n",
        "\n",
        "\n",
        "test_generator = test_datagen.flow_from_directory(\"/content/gdg/test\",\n",
        "                                                    batch_size = 8,\n",
        "                                                    class_mode = None, \n",
        "                                                    target_size = (100, 100))\n",
        "\n",
        "val_generator = val_datagen.flow_from_directory(\"/content/gdg/train\",\n",
        "                                                subset = \"validation\",\n",
        "                                                    batch_size = 8,\n",
        "                                                    class_mode = 'categorical', \n",
        "                                                    target_size = (100, 100))"
      ],
      "execution_count": 36,
      "outputs": [
        {
          "output_type": "stream",
          "text": [
            "Found 471 images belonging to 3 classes.\n",
            "Found 92 images belonging to 2 classes.\n",
            "Found 117 images belonging to 3 classes.\n"
          ],
          "name": "stdout"
        }
      ]
    },
    {
      "cell_type": "code",
      "metadata": {
        "id": "qcmHwCTOKRkl"
      },
      "source": [
        "import numpy as np\n",
        "class_names=['lantana', 'parthenium', 'prosopis']\n",
        "# test_img = np.array(test_generator)"
      ],
      "execution_count": 4,
      "outputs": []
    },
    {
      "cell_type": "code",
      "metadata": {
        "id": "KkPV6ocGSQin"
      },
      "source": [
        "# INPUT_SHAPE = (100, 100, 3)\n",
        "# # get the VGG19 model\n",
        "# vgg_layers = tf.keras.applications.vgg19.VGG19(weights='imagenet', include_top=False, \n",
        "#                                                input_shape=INPUT_SHAPE)\n",
        "\n",
        "# vgg_layers.summary()"
      ],
      "execution_count": 13,
      "outputs": []
    },
    {
      "cell_type": "code",
      "metadata": {
        "id": "xH3hqDP6SXa_"
      },
      "source": [
        "# Fine-tune all the layers\n",
        "# for layer in vgg_layers.layers:\n",
        "#     layer.trainable = True\n",
        "\n",
        "# # Check the trainable status of the individual layers\n",
        "# for layer in vgg_layers.layers:\n",
        "#     print(layer, layer.trainable)"
      ],
      "execution_count": 12,
      "outputs": []
    },
    {
      "cell_type": "code",
      "metadata": {
        "id": "Y0iNJ_IySgIt"
      },
      "source": [
        "# define sequential model\n",
        "# model = tf.keras.models.Sequential()\n",
        "\n",
        "# # Add the vgg convolutional base model\n",
        "# model.add(vgg_layers)\n",
        "\n",
        "# # add flatten layer\n",
        "# model.add(tf.keras.layers.Flatten())\n",
        "\n",
        "# # add dense layers with some dropout\n",
        "# # model.add(tf.keras.layers.Dense(256, activation='relu'))\n",
        "# # model.add(tf.keras.layers.Dropout(rate=0.3))\n",
        "# model.add(tf.keras.layers.Dense(64, activation='relu'))\n",
        "# model.add(tf.keras.layers.Dropout(rate=0.1))\n",
        "\n",
        "# model.add(tf.keras.layers.Dense(32, activation='relu'))\n",
        "# model.add(tf.keras.layers.Dropout(rate=0.1))\n",
        "\n",
        "# # add output layer\n",
        "# model.add(tf.keras.layers.Dense(3, activation='softmax'))"
      ],
      "execution_count": 17,
      "outputs": []
    },
    {
      "cell_type": "code",
      "metadata": {
        "id": "rvIftWRyKVAk",
        "outputId": "2df78931-7bdd-43d7-9c0a-489a197572b9",
        "colab": {
          "base_uri": "https://localhost:8080/",
          "height": 952
        }
      },
      "source": [
        "input_shape= (100,100,3)\n",
        "\n",
        "\n",
        "# get the VGG19 model\n",
        "vgg_layers = tf.keras.applications.vgg19.VGG19(weights='imagenet', include_top=False, \n",
        "                                               input_shape=INPUT_SHAPE)\n",
        "\n",
        "vgg_layers.summary()\n",
        "inputs = tf.keras.Input(shape=input_shape)\n",
        "\n",
        "from tensorflow.keras.applications.inception_v3 import InceptionV3\n",
        "# base_model = InceptionV3(input_shape = input_shape, include_top = False, weights = 'imagenet')\n",
        "\n",
        "# for layer in base_model.layers:\n",
        "#     layer.trainable = True\n",
        "\n",
        "#Augmenting the images\n",
        "data_augmentation = tf.keras.Sequential(\n",
        "    [\n",
        "        tf.keras.layers.experimental.preprocessing.RandomFlip(\"horizontal\"),\n",
        "        tf.keras.layers.experimental.preprocessing.RandomRotation(0.1),\n",
        "        tf.keras.layers.experimental.preprocessing.RandomZoom(0.2)\n",
        "    ]\n",
        ")\n",
        "\n",
        "\n",
        "model = Sequential()\n",
        "model.add(data_augmentation)\n",
        "# model.add(base_model)\n",
        "model.add(tf.keras.layers.Flatten())\n",
        "model.add(tf.keras.layers.experimental.preprocessing.Rescaling(1./255))\n",
        "model.add(tf.keras.layers.Dense(10, input_shape=input_shape))\n",
        "model.add(tf.keras.layers.Dense(100,activation='relu'))\n",
        "model.add(tf.keras.layers.Dropout(0.2))\n",
        "model.add(tf.keras.layers.Dense(100,activation='relu'))\n",
        "model.add(tf.keras.layers.Dropout(0.3))\n",
        "model.add(tf.keras.layers.Dense(3,activation='softmax'))"
      ],
      "execution_count": 37,
      "outputs": [
        {
          "output_type": "stream",
          "text": [
            "Model: \"vgg19\"\n",
            "_________________________________________________________________\n",
            "Layer (type)                 Output Shape              Param #   \n",
            "=================================================================\n",
            "input_10 (InputLayer)        [(None, 100, 100, 3)]     0         \n",
            "_________________________________________________________________\n",
            "block1_conv1 (Conv2D)        (None, 100, 100, 64)      1792      \n",
            "_________________________________________________________________\n",
            "block1_conv2 (Conv2D)        (None, 100, 100, 64)      36928     \n",
            "_________________________________________________________________\n",
            "block1_pool (MaxPooling2D)   (None, 50, 50, 64)        0         \n",
            "_________________________________________________________________\n",
            "block2_conv1 (Conv2D)        (None, 50, 50, 128)       73856     \n",
            "_________________________________________________________________\n",
            "block2_conv2 (Conv2D)        (None, 50, 50, 128)       147584    \n",
            "_________________________________________________________________\n",
            "block2_pool (MaxPooling2D)   (None, 25, 25, 128)       0         \n",
            "_________________________________________________________________\n",
            "block3_conv1 (Conv2D)        (None, 25, 25, 256)       295168    \n",
            "_________________________________________________________________\n",
            "block3_conv2 (Conv2D)        (None, 25, 25, 256)       590080    \n",
            "_________________________________________________________________\n",
            "block3_conv3 (Conv2D)        (None, 25, 25, 256)       590080    \n",
            "_________________________________________________________________\n",
            "block3_conv4 (Conv2D)        (None, 25, 25, 256)       590080    \n",
            "_________________________________________________________________\n",
            "block3_pool (MaxPooling2D)   (None, 12, 12, 256)       0         \n",
            "_________________________________________________________________\n",
            "block4_conv1 (Conv2D)        (None, 12, 12, 512)       1180160   \n",
            "_________________________________________________________________\n",
            "block4_conv2 (Conv2D)        (None, 12, 12, 512)       2359808   \n",
            "_________________________________________________________________\n",
            "block4_conv3 (Conv2D)        (None, 12, 12, 512)       2359808   \n",
            "_________________________________________________________________\n",
            "block4_conv4 (Conv2D)        (None, 12, 12, 512)       2359808   \n",
            "_________________________________________________________________\n",
            "block4_pool (MaxPooling2D)   (None, 6, 6, 512)         0         \n",
            "_________________________________________________________________\n",
            "block5_conv1 (Conv2D)        (None, 6, 6, 512)         2359808   \n",
            "_________________________________________________________________\n",
            "block5_conv2 (Conv2D)        (None, 6, 6, 512)         2359808   \n",
            "_________________________________________________________________\n",
            "block5_conv3 (Conv2D)        (None, 6, 6, 512)         2359808   \n",
            "_________________________________________________________________\n",
            "block5_conv4 (Conv2D)        (None, 6, 6, 512)         2359808   \n",
            "_________________________________________________________________\n",
            "block5_pool (MaxPooling2D)   (None, 3, 3, 512)         0         \n",
            "=================================================================\n",
            "Total params: 20,024,384\n",
            "Trainable params: 20,024,384\n",
            "Non-trainable params: 0\n",
            "_________________________________________________________________\n"
          ],
          "name": "stdout"
        }
      ]
    },
    {
      "cell_type": "code",
      "metadata": {
        "id": "z4f6g03_KiTz"
      },
      "source": [
        "from tensorflow.keras.optimizers import Adam\n",
        "\n",
        "model.compile(optimizer=Adam(lr=0.0001),loss='categorical_crossentropy',metrics=['accuracy'])\n"
      ],
      "execution_count": 45,
      "outputs": []
    },
    {
      "cell_type": "code",
      "metadata": {
        "id": "Ymff0lLGLjfS",
        "outputId": "42c3e72e-f8e3-474a-bb59-15c8837521ff",
        "colab": {
          "base_uri": "https://localhost:8080/",
          "height": 558
        }
      },
      "source": [
        "es_callback = tf.keras.callbacks.EarlyStopping(monitor='val_loss', patience=5, \n",
        "                                               restore_best_weights=True,\n",
        "                                               verbose=1)\n",
        "\n",
        "model.fit(train_generator,\n",
        "          callbacks=[es_callback],\n",
        "          validation_data = val_generator,\n",
        "          epochs = 30)"
      ],
      "execution_count": 52,
      "outputs": [
        {
          "output_type": "stream",
          "text": [
            "Epoch 1/30\n",
            "59/59 [==============================] - 2s 31ms/step - loss: 0.9752 - accuracy: 0.5180 - val_loss: 0.8839 - val_accuracy: 0.6154\n",
            "Epoch 2/30\n",
            "59/59 [==============================] - 2s 31ms/step - loss: 0.9826 - accuracy: 0.5202 - val_loss: 0.8834 - val_accuracy: 0.6239\n",
            "Epoch 3/30\n",
            "59/59 [==============================] - 2s 31ms/step - loss: 0.9838 - accuracy: 0.4862 - val_loss: 0.8807 - val_accuracy: 0.6239\n",
            "Epoch 4/30\n",
            "59/59 [==============================] - 2s 30ms/step - loss: 0.9945 - accuracy: 0.5032 - val_loss: 0.8842 - val_accuracy: 0.6239\n",
            "Epoch 5/30\n",
            "59/59 [==============================] - 2s 31ms/step - loss: 0.9764 - accuracy: 0.5180 - val_loss: 0.8807 - val_accuracy: 0.6410\n",
            "Epoch 6/30\n",
            "59/59 [==============================] - 2s 30ms/step - loss: 0.9770 - accuracy: 0.5180 - val_loss: 0.8829 - val_accuracy: 0.6325\n",
            "Epoch 7/30\n",
            "59/59 [==============================] - 2s 30ms/step - loss: 0.9485 - accuracy: 0.5287 - val_loss: 0.8853 - val_accuracy: 0.6154\n",
            "Epoch 8/30\n",
            "59/59 [==============================] - 2s 30ms/step - loss: 0.9734 - accuracy: 0.5159 - val_loss: 0.8746 - val_accuracy: 0.6410\n",
            "Epoch 9/30\n",
            "59/59 [==============================] - 2s 30ms/step - loss: 0.9744 - accuracy: 0.5244 - val_loss: 0.8770 - val_accuracy: 0.6325\n",
            "Epoch 10/30\n",
            "59/59 [==============================] - 2s 30ms/step - loss: 0.9723 - accuracy: 0.5223 - val_loss: 0.8760 - val_accuracy: 0.6325\n",
            "Epoch 11/30\n",
            "59/59 [==============================] - 2s 31ms/step - loss: 0.9669 - accuracy: 0.5180 - val_loss: 0.8774 - val_accuracy: 0.6410\n",
            "Epoch 12/30\n",
            "59/59 [==============================] - 2s 30ms/step - loss: 0.9584 - accuracy: 0.5223 - val_loss: 0.8793 - val_accuracy: 0.6325\n",
            "Epoch 13/30\n",
            "59/59 [==============================] - ETA: 0s - loss: 0.9622 - accuracy: 0.5244Restoring model weights from the end of the best epoch.\n",
            "59/59 [==============================] - 2s 31ms/step - loss: 0.9622 - accuracy: 0.5244 - val_loss: 0.8761 - val_accuracy: 0.6239\n",
            "Epoch 00013: early stopping\n"
          ],
          "name": "stdout"
        },
        {
          "output_type": "execute_result",
          "data": {
            "text/plain": [
              "<tensorflow.python.keras.callbacks.History at 0x7fd964c0f0f0>"
            ]
          },
          "metadata": {
            "tags": []
          },
          "execution_count": 52
        }
      ]
    },
    {
      "cell_type": "code",
      "metadata": {
        "id": "dgpKCkt4LvXu"
      },
      "source": [
        "import pandas as pd\n",
        "\n",
        "test_generator.reset()\n",
        "preds = model.predict_generator(test_generator)\n"
      ],
      "execution_count": 53,
      "outputs": []
    },
    {
      "cell_type": "code",
      "metadata": {
        "id": "S0_hlmWnMAPz",
        "outputId": "dc358a9d-45b0-49ed-c25e-abc033faafa4",
        "colab": {
          "base_uri": "https://localhost:8080/",
          "height": 1000
        }
      },
      "source": [
        "preds"
      ],
      "execution_count": 49,
      "outputs": [
        {
          "output_type": "execute_result",
          "data": {
            "text/plain": [
              "array([[0.8466426 , 0.08258957, 0.07076772],\n",
              "       [0.08029717, 0.14656287, 0.77313995],\n",
              "       [0.3933465 , 0.32824084, 0.27841273],\n",
              "       [0.28710732, 0.4981571 , 0.21473554],\n",
              "       [0.65858716, 0.19699226, 0.14442053],\n",
              "       [0.17517903, 0.27090397, 0.553917  ],\n",
              "       [0.22776236, 0.32722962, 0.44500798],\n",
              "       [0.25598517, 0.4196991 , 0.3243157 ],\n",
              "       [0.32118   , 0.38290069, 0.2959193 ],\n",
              "       [0.06552112, 0.10057934, 0.8338996 ],\n",
              "       [0.22354527, 0.49504957, 0.28140512],\n",
              "       [0.24446908, 0.42790234, 0.3276286 ],\n",
              "       [0.33799738, 0.43231824, 0.22968437],\n",
              "       [0.55658305, 0.2864968 , 0.15692021],\n",
              "       [0.97544855, 0.01139818, 0.01315328],\n",
              "       [0.7096765 , 0.19497752, 0.09534603],\n",
              "       [0.8360467 , 0.08764447, 0.07630885],\n",
              "       [0.42176622, 0.3539941 , 0.22423968],\n",
              "       [0.3507519 , 0.35800546, 0.29124263],\n",
              "       [0.68866694, 0.18087249, 0.13046055],\n",
              "       [0.29144818, 0.3875313 , 0.3210206 ],\n",
              "       [0.46445006, 0.33462292, 0.20092705],\n",
              "       [0.1630858 , 0.16395943, 0.6729548 ],\n",
              "       [0.18369912, 0.24070826, 0.57559264],\n",
              "       [0.40373543, 0.34957418, 0.2466904 ],\n",
              "       [0.28654   , 0.4498816 , 0.26357833],\n",
              "       [0.28853664, 0.45200107, 0.25946236],\n",
              "       [0.40013254, 0.352492  , 0.24737547],\n",
              "       [0.43021134, 0.3117425 , 0.25804612],\n",
              "       [0.32074338, 0.38026738, 0.29898924],\n",
              "       [0.24533686, 0.2620947 , 0.49256843],\n",
              "       [0.20878217, 0.29908386, 0.49213395],\n",
              "       [0.70986533, 0.19484736, 0.09528726],\n",
              "       [0.22213618, 0.3574238 , 0.42044   ],\n",
              "       [0.7033074 , 0.16966248, 0.1270302 ],\n",
              "       [0.23629948, 0.47567233, 0.2880282 ],\n",
              "       [0.25626975, 0.47631168, 0.26741853],\n",
              "       [0.303325  , 0.4534969 , 0.24317811],\n",
              "       [0.25588077, 0.3700195 , 0.37409973],\n",
              "       [0.07306784, 0.06553049, 0.8614017 ],\n",
              "       [0.35205427, 0.38685265, 0.26109302],\n",
              "       [0.25125027, 0.49421775, 0.25453198],\n",
              "       [0.19177122, 0.3244133 , 0.4838155 ],\n",
              "       [0.91691923, 0.03955385, 0.04352693],\n",
              "       [0.1466378 , 0.14548716, 0.707875  ],\n",
              "       [0.03729268, 0.03358182, 0.92912555],\n",
              "       [0.2531977 , 0.2870463 , 0.45975596],\n",
              "       [0.4152132 , 0.36688608, 0.21790077],\n",
              "       [0.39458248, 0.32987174, 0.27554578],\n",
              "       [0.29983544, 0.41289517, 0.28726938],\n",
              "       [0.2695312 , 0.42245093, 0.30801788],\n",
              "       [0.17331728, 0.28318223, 0.5435005 ],\n",
              "       [0.1121873 , 0.09268238, 0.7951304 ],\n",
              "       [0.2091974 , 0.19813985, 0.5926627 ],\n",
              "       [0.26164088, 0.2277055 , 0.5106536 ],\n",
              "       [0.23368439, 0.41110194, 0.35521367],\n",
              "       [0.25332674, 0.45303681, 0.2936364 ],\n",
              "       [0.2324515 , 0.4378511 , 0.3296974 ],\n",
              "       [0.23409554, 0.46500108, 0.30090338],\n",
              "       [0.24555916, 0.4819679 , 0.27247295],\n",
              "       [0.23386396, 0.41153207, 0.35460398],\n",
              "       [0.08192758, 0.139451  , 0.77862144],\n",
              "       [0.32140514, 0.43390396, 0.24469088],\n",
              "       [0.25850204, 0.43087408, 0.31062394],\n",
              "       [0.4561773 , 0.30056468, 0.243258  ],\n",
              "       [0.88506263, 0.05443258, 0.06050478],\n",
              "       [0.22140776, 0.44653955, 0.33205277],\n",
              "       [0.20197152, 0.23546611, 0.56256235],\n",
              "       [0.42176622, 0.3539941 , 0.22423968],\n",
              "       [0.51971686, 0.24745958, 0.23282354],\n",
              "       [0.22147301, 0.36854994, 0.409977  ],\n",
              "       [0.18641779, 0.25833666, 0.5552455 ],\n",
              "       [0.39143237, 0.39508584, 0.21348177],\n",
              "       [0.33641055, 0.25318468, 0.41040477],\n",
              "       [0.2625179 , 0.25327468, 0.48420736],\n",
              "       [0.28425747, 0.42686033, 0.2888822 ],\n",
              "       [0.167145  , 0.15777808, 0.6750769 ],\n",
              "       [0.36758128, 0.40631858, 0.22610015],\n",
              "       [0.11830831, 0.10914145, 0.7725503 ],\n",
              "       [0.22828929, 0.46142933, 0.3102813 ],\n",
              "       [0.2934938 , 0.4523068 , 0.25419933],\n",
              "       [0.17371728, 0.1718968 , 0.6543859 ],\n",
              "       [0.25432444, 0.43673533, 0.30894017],\n",
              "       [0.71933174, 0.15862945, 0.12203885],\n",
              "       [0.2526343 , 0.45335457, 0.29401115],\n",
              "       [0.12643598, 0.18416081, 0.68940324],\n",
              "       [0.26826057, 0.30256674, 0.4291727 ],\n",
              "       [0.8060988 , 0.09308536, 0.10081582],\n",
              "       [0.29183802, 0.39274815, 0.31541383],\n",
              "       [0.24606058, 0.44982263, 0.30411685],\n",
              "       [0.26588187, 0.43027762, 0.30384055],\n",
              "       [0.03801889, 0.03443757, 0.9275435 ]], dtype=float32)"
            ]
          },
          "metadata": {
            "tags": []
          },
          "execution_count": 49
        }
      ]
    },
    {
      "cell_type": "code",
      "metadata": {
        "id": "tjBkwiHOMGl9"
      },
      "source": [
        "predicted_class_indices  = np.argmax(preds,axis=1)\n"
      ],
      "execution_count": 50,
      "outputs": []
    },
    {
      "cell_type": "code",
      "metadata": {
        "id": "2gNdNyfjO8oe"
      },
      "source": [
        "model.save('model.h5')"
      ],
      "execution_count": null,
      "outputs": []
    },
    {
      "cell_type": "code",
      "metadata": {
        "id": "RFG5yoLV2_Nu"
      },
      "source": [
        ""
      ],
      "execution_count": null,
      "outputs": []
    },
    {
      "cell_type": "code",
      "metadata": {
        "id": "jAKwOTlKMKi3",
        "outputId": "d9fbffbc-bf59-4b9c-8048-8330955a9466",
        "colab": {
          "base_uri": "https://localhost:8080/",
          "height": 107
        }
      },
      "source": [
        "predicted_class_indices"
      ],
      "execution_count": 51,
      "outputs": [
        {
          "output_type": "execute_result",
          "data": {
            "text/plain": [
              "array([0, 2, 0, 1, 0, 2, 2, 1, 1, 2, 1, 1, 1, 0, 0, 0, 0, 0, 1, 0, 1, 0,\n",
              "       2, 2, 0, 1, 1, 0, 0, 1, 2, 2, 0, 2, 0, 1, 1, 1, 2, 2, 1, 1, 2, 0,\n",
              "       2, 2, 2, 0, 0, 1, 1, 2, 2, 2, 2, 1, 1, 1, 1, 1, 1, 2, 1, 1, 0, 0,\n",
              "       1, 2, 0, 0, 2, 2, 1, 2, 2, 1, 2, 1, 2, 1, 1, 2, 1, 0, 1, 2, 2, 0,\n",
              "       1, 1, 1, 2])"
            ]
          },
          "metadata": {
            "tags": []
          },
          "execution_count": 51
        }
      ]
    },
    {
      "cell_type": "code",
      "metadata": {
        "id": "Hr72PBd6MjAs"
      },
      "source": [
        "#if using softmax activation on output layer\n",
        "predicted_class_indices  = np.argmax(preds,axis=1)\n",
        "\n",
        "labels = (train_generator.class_indices)"
      ],
      "execution_count": null,
      "outputs": []
    },
    {
      "cell_type": "code",
      "metadata": {
        "id": "rnOruls-M_yI",
        "outputId": "0f3aec9e-8be3-4a08-de1a-0ee2a98b4a82",
        "colab": {
          "base_uri": "https://localhost:8080/",
          "height": 34
        }
      },
      "source": [
        "labels"
      ],
      "execution_count": null,
      "outputs": [
        {
          "output_type": "execute_result",
          "data": {
            "text/plain": [
              "{'lantana': 0, 'parthenium': 1, 'prosopis': 2}"
            ]
          },
          "metadata": {
            "tags": []
          },
          "execution_count": 13
        }
      ]
    },
    {
      "cell_type": "code",
      "metadata": {
        "id": "mmXKMshs2VRe",
        "outputId": "e75276dd-61c5-4773-b062-2a7bf5585222",
        "colab": {
          "base_uri": "https://localhost:8080/",
          "height": 802
        }
      },
      "source": [
        "!pip install tensorflowjs\n",
        "import tensorflowjs as tfjs\n",
        "tfjs.converters.save_keras_model(model, '.')"
      ],
      "execution_count": null,
      "outputs": [
        {
          "output_type": "stream",
          "text": [
            "Collecting tensorflowjs\n",
            "\u001b[?25l  Downloading https://files.pythonhosted.org/packages/75/e9/50b7608357b23f24eec4bc2271eda8b9afe7a06788e0346bb153fdc309ab/tensorflowjs-2.6.0-py3-none-any.whl (61kB)\n",
            "\r\u001b[K     |█████▎                          | 10kB 19.1MB/s eta 0:00:01\r\u001b[K     |██████████▋                     | 20kB 2.9MB/s eta 0:00:01\r\u001b[K     |████████████████                | 30kB 3.8MB/s eta 0:00:01\r\u001b[K     |█████████████████████▏          | 40kB 4.1MB/s eta 0:00:01\r\u001b[K     |██████████████████████████▌     | 51kB 3.4MB/s eta 0:00:01\r\u001b[K     |███████████████████████████████▉| 61kB 3.8MB/s eta 0:00:01\r\u001b[K     |████████████████████████████████| 71kB 3.4MB/s \n",
            "\u001b[?25hRequirement already satisfied: tensorflow<3,>=2.1.0 in /usr/local/lib/python3.6/dist-packages (from tensorflowjs) (2.3.0)\n",
            "Requirement already satisfied: h5py<3,>=2.8.0 in /usr/local/lib/python3.6/dist-packages (from tensorflowjs) (2.10.0)\n",
            "Requirement already satisfied: tensorflow-hub<0.10,>=0.7.0 in /usr/local/lib/python3.6/dist-packages (from tensorflowjs) (0.9.0)\n",
            "Requirement already satisfied: six<2,>=1.12.0 in /usr/local/lib/python3.6/dist-packages (from tensorflowjs) (1.15.0)\n",
            "Requirement already satisfied: numpy<1.19.0,>=1.16.0 in /usr/local/lib/python3.6/dist-packages (from tensorflow<3,>=2.1.0->tensorflowjs) (1.18.5)\n",
            "Requirement already satisfied: google-pasta>=0.1.8 in /usr/local/lib/python3.6/dist-packages (from tensorflow<3,>=2.1.0->tensorflowjs) (0.2.0)\n",
            "Requirement already satisfied: wheel>=0.26 in /usr/local/lib/python3.6/dist-packages (from tensorflow<3,>=2.1.0->tensorflowjs) (0.35.1)\n",
            "Requirement already satisfied: protobuf>=3.9.2 in /usr/local/lib/python3.6/dist-packages (from tensorflow<3,>=2.1.0->tensorflowjs) (3.12.4)\n",
            "Requirement already satisfied: absl-py>=0.7.0 in /usr/local/lib/python3.6/dist-packages (from tensorflow<3,>=2.1.0->tensorflowjs) (0.10.0)\n",
            "Requirement already satisfied: keras-preprocessing<1.2,>=1.1.1 in /usr/local/lib/python3.6/dist-packages (from tensorflow<3,>=2.1.0->tensorflowjs) (1.1.2)\n",
            "Requirement already satisfied: tensorboard<3,>=2.3.0 in /usr/local/lib/python3.6/dist-packages (from tensorflow<3,>=2.1.0->tensorflowjs) (2.3.0)\n",
            "Requirement already satisfied: termcolor>=1.1.0 in /usr/local/lib/python3.6/dist-packages (from tensorflow<3,>=2.1.0->tensorflowjs) (1.1.0)\n",
            "Requirement already satisfied: wrapt>=1.11.1 in /usr/local/lib/python3.6/dist-packages (from tensorflow<3,>=2.1.0->tensorflowjs) (1.12.1)\n",
            "Requirement already satisfied: grpcio>=1.8.6 in /usr/local/lib/python3.6/dist-packages (from tensorflow<3,>=2.1.0->tensorflowjs) (1.32.0)\n",
            "Requirement already satisfied: scipy==1.4.1 in /usr/local/lib/python3.6/dist-packages (from tensorflow<3,>=2.1.0->tensorflowjs) (1.4.1)\n",
            "Requirement already satisfied: tensorflow-estimator<2.4.0,>=2.3.0 in /usr/local/lib/python3.6/dist-packages (from tensorflow<3,>=2.1.0->tensorflowjs) (2.3.0)\n",
            "Requirement already satisfied: opt-einsum>=2.3.2 in /usr/local/lib/python3.6/dist-packages (from tensorflow<3,>=2.1.0->tensorflowjs) (3.3.0)\n",
            "Requirement already satisfied: astunparse==1.6.3 in /usr/local/lib/python3.6/dist-packages (from tensorflow<3,>=2.1.0->tensorflowjs) (1.6.3)\n",
            "Requirement already satisfied: gast==0.3.3 in /usr/local/lib/python3.6/dist-packages (from tensorflow<3,>=2.1.0->tensorflowjs) (0.3.3)\n",
            "Requirement already satisfied: setuptools in /usr/local/lib/python3.6/dist-packages (from protobuf>=3.9.2->tensorflow<3,>=2.1.0->tensorflowjs) (50.3.0)\n",
            "Requirement already satisfied: google-auth-oauthlib<0.5,>=0.4.1 in /usr/local/lib/python3.6/dist-packages (from tensorboard<3,>=2.3.0->tensorflow<3,>=2.1.0->tensorflowjs) (0.4.1)\n",
            "Requirement already satisfied: werkzeug>=0.11.15 in /usr/local/lib/python3.6/dist-packages (from tensorboard<3,>=2.3.0->tensorflow<3,>=2.1.0->tensorflowjs) (1.0.1)\n",
            "Requirement already satisfied: google-auth<2,>=1.6.3 in /usr/local/lib/python3.6/dist-packages (from tensorboard<3,>=2.3.0->tensorflow<3,>=2.1.0->tensorflowjs) (1.17.2)\n",
            "Requirement already satisfied: markdown>=2.6.8 in /usr/local/lib/python3.6/dist-packages (from tensorboard<3,>=2.3.0->tensorflow<3,>=2.1.0->tensorflowjs) (3.2.2)\n",
            "Requirement already satisfied: tensorboard-plugin-wit>=1.6.0 in /usr/local/lib/python3.6/dist-packages (from tensorboard<3,>=2.3.0->tensorflow<3,>=2.1.0->tensorflowjs) (1.7.0)\n",
            "Requirement already satisfied: requests<3,>=2.21.0 in /usr/local/lib/python3.6/dist-packages (from tensorboard<3,>=2.3.0->tensorflow<3,>=2.1.0->tensorflowjs) (2.23.0)\n",
            "Requirement already satisfied: requests-oauthlib>=0.7.0 in /usr/local/lib/python3.6/dist-packages (from google-auth-oauthlib<0.5,>=0.4.1->tensorboard<3,>=2.3.0->tensorflow<3,>=2.1.0->tensorflowjs) (1.3.0)\n",
            "Requirement already satisfied: cachetools<5.0,>=2.0.0 in /usr/local/lib/python3.6/dist-packages (from google-auth<2,>=1.6.3->tensorboard<3,>=2.3.0->tensorflow<3,>=2.1.0->tensorflowjs) (4.1.1)\n",
            "Requirement already satisfied: pyasn1-modules>=0.2.1 in /usr/local/lib/python3.6/dist-packages (from google-auth<2,>=1.6.3->tensorboard<3,>=2.3.0->tensorflow<3,>=2.1.0->tensorflowjs) (0.2.8)\n",
            "Requirement already satisfied: rsa<5,>=3.1.4; python_version >= \"3\" in /usr/local/lib/python3.6/dist-packages (from google-auth<2,>=1.6.3->tensorboard<3,>=2.3.0->tensorflow<3,>=2.1.0->tensorflowjs) (4.6)\n",
            "Requirement already satisfied: importlib-metadata; python_version < \"3.8\" in /usr/local/lib/python3.6/dist-packages (from markdown>=2.6.8->tensorboard<3,>=2.3.0->tensorflow<3,>=2.1.0->tensorflowjs) (2.0.0)\n",
            "Requirement already satisfied: chardet<4,>=3.0.2 in /usr/local/lib/python3.6/dist-packages (from requests<3,>=2.21.0->tensorboard<3,>=2.3.0->tensorflow<3,>=2.1.0->tensorflowjs) (3.0.4)\n",
            "Requirement already satisfied: certifi>=2017.4.17 in /usr/local/lib/python3.6/dist-packages (from requests<3,>=2.21.0->tensorboard<3,>=2.3.0->tensorflow<3,>=2.1.0->tensorflowjs) (2020.6.20)\n",
            "Requirement already satisfied: idna<3,>=2.5 in /usr/local/lib/python3.6/dist-packages (from requests<3,>=2.21.0->tensorboard<3,>=2.3.0->tensorflow<3,>=2.1.0->tensorflowjs) (2.10)\n",
            "Requirement already satisfied: urllib3!=1.25.0,!=1.25.1,<1.26,>=1.21.1 in /usr/local/lib/python3.6/dist-packages (from requests<3,>=2.21.0->tensorboard<3,>=2.3.0->tensorflow<3,>=2.1.0->tensorflowjs) (1.24.3)\n",
            "Requirement already satisfied: oauthlib>=3.0.0 in /usr/local/lib/python3.6/dist-packages (from requests-oauthlib>=0.7.0->google-auth-oauthlib<0.5,>=0.4.1->tensorboard<3,>=2.3.0->tensorflow<3,>=2.1.0->tensorflowjs) (3.1.0)\n",
            "Requirement already satisfied: pyasn1<0.5.0,>=0.4.6 in /usr/local/lib/python3.6/dist-packages (from pyasn1-modules>=0.2.1->google-auth<2,>=1.6.3->tensorboard<3,>=2.3.0->tensorflow<3,>=2.1.0->tensorflowjs) (0.4.8)\n",
            "Requirement already satisfied: zipp>=0.5 in /usr/local/lib/python3.6/dist-packages (from importlib-metadata; python_version < \"3.8\"->markdown>=2.6.8->tensorboard<3,>=2.3.0->tensorflow<3,>=2.1.0->tensorflowjs) (3.2.0)\n",
            "Installing collected packages: tensorflowjs\n",
            "Successfully installed tensorflowjs-2.6.0\n"
          ],
          "name": "stdout"
        },
        {
          "output_type": "stream",
          "text": [
            "/usr/local/lib/python3.6/dist-packages/tensorflowjs/converters/keras_h5_conversion.py:123: H5pyDeprecationWarning: The default file mode will change to 'r' (read-only) in h5py 3.0. To suppress this warning, pass the mode you need to h5py.File(), or set the global default h5.get_config().default_file_mode, or set the environment variable H5PY_DEFAULT_READONLY=1. Available modes are: 'r', 'r+', 'w', 'w-'/'x', 'a'. See the docs for details.\n",
            "  return h5py.File(h5file)\n"
          ],
          "name": "stderr"
        }
      ]
    }
  ]
}